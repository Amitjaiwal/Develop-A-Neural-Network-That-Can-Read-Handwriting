{
 "cells": [
  {
   "cell_type": "markdown",
   "id": "84ee1522",
   "metadata": {
    "_cell_guid": "b1076dfc-b9ad-4769-8c92-a6c4dae69d19",
    "_uuid": "8f2839f25d086af736a60e9eeb907d3b93b6e0e5",
    "execution": {
     "iopub.execute_input": "2021-09-19T05:41:27.705944Z",
     "iopub.status.busy": "2021-09-19T05:41:27.705267Z",
     "iopub.status.idle": "2021-09-19T05:41:34.249008Z",
     "shell.execute_reply": "2021-09-19T05:41:34.248148Z",
     "shell.execute_reply.started": "2021-09-18T09:12:19.41657Z"
    },
    "papermill": {
     "duration": 6.590673,
     "end_time": "2021-09-19T05:41:34.249263",
     "exception": false,
     "start_time": "2021-09-19T05:41:27.658590",
     "status": "completed"
    },
    "tags": []
   },
   "source": [
    "# Data Science intern @LetsGrowMore\n",
    "# Author : Amit jaiwal\n",
    "# ADVANCED LEVEL TASK No - 4\n",
    "\n",
    "# <center>Develop A Neural Network That Can Read Handwriting</center>\n"
   ]
  },
  {
   "cell_type": "code",
   "execution_count": 36,
   "id": "7d7662ce",
   "metadata": {},
   "outputs": [
    {
     "name": "stdout",
     "output_type": "stream",
     "text": [
      "TF_VERSION: 2.3.0\n"
     ]
    }
   ],
   "source": [
    "import numpy as np \n",
    "import pandas as pd\n",
    "\n",
    "import matplotlib.pyplot as plt \n",
    "import seaborn as sns\n",
    "\n",
    "import random\n",
    "\n",
    "import tensorflow as tf\n",
    "print(\"TF_VERSION:\", tf.__version__)\n",
    "\n",
    "# set seed\n",
    "tf.random.set_seed(0)\n",
    "random.seed(0)\n",
    "np.random.seed(0)\n",
    "\n",
    "\n",
    "import os\n",
    "for dirname, _, filenames in os.walk(''):\n",
    "    for filename in filenames:\n",
    "        print(os.path.join(dirname, filename))"
   ]
  },
  {
   "cell_type": "markdown",
   "id": "2dec410a",
   "metadata": {
    "execution": {
     "iopub.execute_input": "2021-09-18T07:09:56.667473Z",
     "iopub.status.busy": "2021-09-18T07:09:56.666984Z",
     "iopub.status.idle": "2021-09-18T07:09:56.686615Z",
     "shell.execute_reply": "2021-09-18T07:09:56.685596Z",
     "shell.execute_reply.started": "2021-09-18T07:09:56.667383Z"
    },
    "papermill": {
     "duration": 0.031374,
     "end_time": "2021-09-19T05:41:34.313287",
     "exception": false,
     "start_time": "2021-09-19T05:41:34.281913",
     "status": "completed"
    },
    "tags": []
   },
   "source": [
    "## Load Dataset"
   ]
  },
  {
   "cell_type": "code",
   "execution_count": 3,
   "id": "a113bc55",
   "metadata": {
    "execution": {
     "iopub.execute_input": "2021-09-19T05:41:34.385075Z",
     "iopub.status.busy": "2021-09-19T05:41:34.384424Z",
     "iopub.status.idle": "2021-09-19T05:41:40.620901Z",
     "shell.execute_reply": "2021-09-19T05:41:40.620242Z",
     "shell.execute_reply.started": "2021-09-18T09:12:25.251362Z"
    },
    "papermill": {
     "duration": 6.274185,
     "end_time": "2021-09-19T05:41:40.621068",
     "exception": false,
     "start_time": "2021-09-19T05:41:34.346883",
     "status": "completed"
    },
    "tags": []
   },
   "outputs": [
    {
     "data": {
      "text/plain": [
       "((42000, 785), (28000, 784))"
      ]
     },
     "execution_count": 3,
     "metadata": {},
     "output_type": "execute_result"
    }
   ],
   "source": [
    "train_df = pd.read_csv('train.csv')\n",
    "test_df = pd.read_csv('test.csv')\n",
    "train_df.shape, test_df.shape"
   ]
  },
  {
   "cell_type": "markdown",
   "id": "a765f5a2",
   "metadata": {
    "papermill": {
     "duration": 0.032366,
     "end_time": "2021-09-19T05:41:40.685888",
     "exception": false,
     "start_time": "2021-09-19T05:41:40.653522",
     "status": "completed"
    },
    "tags": []
   },
   "source": [
    "#### Check for NULL values"
   ]
  },
  {
   "cell_type": "code",
   "execution_count": 4,
   "id": "e14c25fc",
   "metadata": {
    "execution": {
     "iopub.execute_input": "2021-09-19T05:41:40.757462Z",
     "iopub.status.busy": "2021-09-19T05:41:40.755551Z",
     "iopub.status.idle": "2021-09-19T05:41:40.837373Z",
     "shell.execute_reply": "2021-09-19T05:41:40.836784Z",
     "shell.execute_reply.started": "2021-09-18T09:12:31.064422Z"
    },
    "papermill": {
     "duration": 0.11955,
     "end_time": "2021-09-19T05:41:40.837525",
     "exception": false,
     "start_time": "2021-09-19T05:41:40.717975",
     "status": "completed"
    },
    "tags": []
   },
   "outputs": [
    {
     "data": {
      "text/plain": [
       "(0, 0)"
      ]
     },
     "execution_count": 4,
     "metadata": {},
     "output_type": "execute_result"
    }
   ],
   "source": [
    "train_df.isnull().sum().sum(), test_df.isnull().sum().sum()"
   ]
  },
  {
   "cell_type": "markdown",
   "id": "6ce9f123",
   "metadata": {
    "papermill": {
     "duration": 0.034363,
     "end_time": "2021-09-19T05:41:40.904303",
     "exception": false,
     "start_time": "2021-09-19T05:41:40.869940",
     "status": "completed"
    },
    "tags": []
   },
   "source": [
    "#### Creating Numpy array from dataframe\n",
    "- Image: (-1, 784)\n",
    "- Label: (-1, 1)\n",
    "\n"
   ]
  },
  {
   "cell_type": "code",
   "execution_count": 5,
   "id": "cdd6806c",
   "metadata": {
    "execution": {
     "iopub.execute_input": "2021-09-19T05:41:40.981677Z",
     "iopub.status.busy": "2021-09-19T05:41:40.980944Z",
     "iopub.status.idle": "2021-09-19T05:41:41.341880Z",
     "shell.execute_reply": "2021-09-19T05:41:41.341217Z",
     "shell.execute_reply.started": "2021-09-18T09:12:31.157084Z"
    },
    "papermill": {
     "duration": 0.404252,
     "end_time": "2021-09-19T05:41:41.342033",
     "exception": false,
     "start_time": "2021-09-19T05:41:40.937781",
     "status": "completed"
    },
    "tags": []
   },
   "outputs": [
    {
     "name": "stdout",
     "output_type": "stream",
     "text": [
      "(42000, 784) (42000,) (28000, 784)\n"
     ]
    }
   ],
   "source": [
    "# numpy array from pandas df\n",
    "X_train, y_train = np.array(train_df.loc[:, 'pixel0':]), np.array(train_df.label)\n",
    "X_test = np.array(test_df.loc[:, 'pixel0':])\n",
    "print(X_train.shape, y_train.shape, X_test.shape)"
   ]
  },
  {
   "cell_type": "markdown",
   "id": "c32732b6",
   "metadata": {
    "papermill": {
     "duration": 0.032812,
     "end_time": "2021-09-19T05:41:41.408459",
     "exception": false,
     "start_time": "2021-09-19T05:41:41.375647",
     "status": "completed"
    },
    "tags": []
   },
   "source": [
    "#### Reshaping image from 1D to 2D, for whole dataset 2D to 3D.\n",
    "- Image: (-1, 28, 28)\n",
    "- Label: (-1, 1)"
   ]
  },
  {
   "cell_type": "code",
   "execution_count": 6,
   "id": "e03ec226",
   "metadata": {
    "execution": {
     "iopub.execute_input": "2021-09-19T05:41:41.482554Z",
     "iopub.status.busy": "2021-09-19T05:41:41.481900Z",
     "iopub.status.idle": "2021-09-19T05:41:41.486259Z",
     "shell.execute_reply": "2021-09-19T05:41:41.485701Z",
     "shell.execute_reply.started": "2021-09-18T09:12:31.367523Z"
    },
    "papermill": {
     "duration": 0.044223,
     "end_time": "2021-09-19T05:41:41.486411",
     "exception": false,
     "start_time": "2021-09-19T05:41:41.442188",
     "status": "completed"
    },
    "tags": []
   },
   "outputs": [
    {
     "name": "stdout",
     "output_type": "stream",
     "text": [
      "(42000, 28, 28) (42000,) (28000, 28, 28)\n"
     ]
    }
   ],
   "source": [
    "X_train = X_train.reshape(-1,28,28)\n",
    "X_test = X_test.reshape(-1,28,28)\n",
    "print(X_train.shape, y_train.shape, X_test.shape)"
   ]
  },
  {
   "cell_type": "markdown",
   "id": "a06dae7b",
   "metadata": {
    "papermill": {
     "duration": 0.03411,
     "end_time": "2021-09-19T05:41:41.554708",
     "exception": false,
     "start_time": "2021-09-19T05:41:41.520598",
     "status": "completed"
    },
    "tags": []
   },
   "source": [
    "## Plotting"
   ]
  },
  {
   "cell_type": "markdown",
   "id": "c1c18360",
   "metadata": {
    "papermill": {
     "duration": 0.033804,
     "end_time": "2021-09-19T05:41:41.622372",
     "exception": false,
     "start_time": "2021-09-19T05:41:41.588568",
     "status": "completed"
    },
    "tags": []
   },
   "source": [
    "#### Check for number of samples per target variable"
   ]
  },
  {
   "cell_type": "code",
   "execution_count": 7,
   "id": "a88753ef",
   "metadata": {
    "execution": {
     "iopub.execute_input": "2021-09-19T05:41:41.697618Z",
     "iopub.status.busy": "2021-09-19T05:41:41.696835Z",
     "iopub.status.idle": "2021-09-19T05:41:41.888718Z",
     "shell.execute_reply": "2021-09-19T05:41:41.888092Z",
     "shell.execute_reply.started": "2021-09-18T09:12:31.375006Z"
    },
    "papermill": {
     "duration": 0.232143,
     "end_time": "2021-09-19T05:41:41.888886",
     "exception": false,
     "start_time": "2021-09-19T05:41:41.656743",
     "status": "completed"
    },
    "tags": []
   },
   "outputs": [
    {
     "data": {
      "image/png": "[encoded data removed]",
      "text/plain": [
       "<Figure size 432x288 with 1 Axes>"
      ]
     },
     "metadata": {
      "needs_background": "light"
     },
     "output_type": "display_data"
    }
   ],
   "source": [
    "count_array = np.unique(y_train, return_counts=True)\n",
    "plt.bar(count_array[0], count_array[1])\n",
    "plt.xticks(count_array[0])\n",
    "plt.xlabel(\"Target Variable\")\n",
    "plt.ylabel(\"Samples\")\n",
    "plt.title(\"Samples per target variable\")\n",
    "plt.show()"
   ]
  },
  {
   "cell_type": "markdown",
   "id": "ae1f10d0",
   "metadata": {
    "papermill": {
     "duration": 0.033481,
     "end_time": "2021-09-19T05:41:41.957761",
     "exception": false,
     "start_time": "2021-09-19T05:41:41.924280",
     "status": "completed"
    },
    "tags": []
   },
   "source": [
    "#### let's we plot some sample images"
   ]
  },
  {
   "cell_type": "code",
   "execution_count": 8,
   "id": "23c1efc2",
   "metadata": {
    "execution": {
     "iopub.execute_input": "2021-09-19T05:41:42.053100Z",
     "iopub.status.busy": "2021-09-19T05:41:42.049787Z",
     "iopub.status.idle": "2021-09-19T05:41:44.993005Z",
     "shell.execute_reply": "2021-09-19T05:41:44.993508Z",
     "shell.execute_reply.started": "2021-09-18T09:12:31.61681Z"
    },
    "papermill": {
     "duration": 3.002008,
     "end_time": "2021-09-19T05:41:44.993703",
     "exception": false,
     "start_time": "2021-09-19T05:41:41.991695",
     "status": "completed"
    },
    "tags": []
   },
   "outputs": [
    {
     "data": {
      "image/png": "[encoded data removed]",
      "text/plain": [
       "<Figure size 720x720 with 50 Axes>"
      ]
     },
     "metadata": {
      "needs_background": "light"
     },
     "output_type": "display_data"
    }
   ],
   "source": [
    "# let see some images \n",
    "plt.figure(figsize=(10,10))\n",
    "for i in range(25):\n",
    "    plt.subplot(5, 5, i+1)\n",
    "    plt.imshow(X_train[i])\n",
    "    plt.colorbar()\n",
    "    plt.xlabel(y_train[i])\n",
    "    plt.xticks([])\n",
    "    plt.yticks([])\n",
    "plt.show()"
   ]
  },
  {
   "cell_type": "code",
   "execution_count": 9,
   "id": "37ba14c9",
   "metadata": {
    "execution": {
     "iopub.execute_input": "2021-09-19T05:41:45.075712Z",
     "iopub.status.busy": "2021-09-19T05:41:45.074514Z",
     "iopub.status.idle": "2021-09-19T05:41:45.631643Z",
     "shell.execute_reply": "2021-09-19T05:41:45.631045Z",
     "shell.execute_reply.started": "2021-09-18T09:12:34.409237Z"
    },
    "papermill": {
     "duration": 0.600033,
     "end_time": "2021-09-19T05:41:45.631863",
     "exception": false,
     "start_time": "2021-09-19T05:41:45.031830",
     "status": "completed"
    },
    "tags": []
   },
   "outputs": [],
   "source": [
    "from tensorflow.keras.models import Sequential\n",
    "from tensorflow.keras.layers import Conv2D, MaxPool2D, Flatten, Dense, Dropout\n",
    "\n",
    "from tensorflow.keras.callbacks import ReduceLROnPlateau\n",
    "\n",
    "from tensorflow.keras.utils import to_categorical\n",
    "from sklearn.model_selection import train_test_split "
   ]
  },
  {
   "cell_type": "code",
   "execution_count": 10,
   "id": "65e7e931",
   "metadata": {
    "execution": {
     "iopub.execute_input": "2021-09-19T05:41:45.717945Z",
     "iopub.status.busy": "2021-09-19T05:41:45.717253Z",
     "iopub.status.idle": "2021-09-19T05:41:45.720021Z",
     "shell.execute_reply": "2021-09-19T05:41:45.720581Z",
     "shell.execute_reply.started": "2021-09-18T09:12:34.789799Z"
    },
    "papermill": {
     "duration": 0.049651,
     "end_time": "2021-09-19T05:41:45.720765",
     "exception": false,
     "start_time": "2021-09-19T05:41:45.671114",
     "status": "completed"
    },
    "tags": []
   },
   "outputs": [
    {
     "name": "stdout",
     "output_type": "stream",
     "text": [
      "(42000, 28, 28, 1) (42000,) (28000, 28, 28, 1)\n"
     ]
    }
   ],
   "source": [
    "X_train = X_train.reshape(-1,28,28,1)\n",
    "X_test = X_test.reshape(-1,28,28,1)\n",
    "print(X_train.shape, y_train.shape, X_test.shape)"
   ]
  },
  {
   "cell_type": "code",
   "execution_count": 11,
   "id": "78c25a41",
   "metadata": {
    "execution": {
     "iopub.execute_input": "2021-09-19T05:41:45.801787Z",
     "iopub.status.busy": "2021-09-19T05:41:45.801136Z",
     "iopub.status.idle": "2021-09-19T05:41:46.006569Z",
     "shell.execute_reply": "2021-09-19T05:41:46.007127Z",
     "shell.execute_reply.started": "2021-09-18T09:12:34.800589Z"
    },
    "papermill": {
     "duration": 0.247857,
     "end_time": "2021-09-19T05:41:46.007354",
     "exception": false,
     "start_time": "2021-09-19T05:41:45.759497",
     "status": "completed"
    },
    "tags": []
   },
   "outputs": [],
   "source": [
    "X_train = X_train / 255.0\n",
    "X_test = X_test / 255.0"
   ]
  },
  {
   "cell_type": "code",
   "execution_count": 12,
   "id": "35fe5c14",
   "metadata": {
    "execution": {
     "iopub.execute_input": "2021-09-19T05:41:46.088582Z",
     "iopub.status.busy": "2021-09-19T05:41:46.087955Z",
     "iopub.status.idle": "2021-09-19T05:41:46.226227Z",
     "shell.execute_reply": "2021-09-19T05:41:46.226683Z",
     "shell.execute_reply.started": "2021-09-18T09:12:35.010297Z"
    },
    "papermill": {
     "duration": 0.180546,
     "end_time": "2021-09-19T05:41:46.226897",
     "exception": false,
     "start_time": "2021-09-19T05:41:46.046351",
     "status": "completed"
    },
    "tags": []
   },
   "outputs": [
    {
     "data": {
      "text/plain": [
       "(0.0, 1.0, 0.0, 1.0)"
      ]
     },
     "execution_count": 12,
     "metadata": {},
     "output_type": "execute_result"
    }
   ],
   "source": [
    "X_train.min(), X_train.max(), X_test.min(), X_train.max()"
   ]
  },
  {
   "cell_type": "code",
   "execution_count": 13,
   "id": "febd7659",
   "metadata": {
    "execution": {
     "iopub.execute_input": "2021-09-19T05:41:46.307060Z",
     "iopub.status.busy": "2021-09-19T05:41:46.306425Z",
     "iopub.status.idle": "2021-09-19T05:41:46.313288Z",
     "shell.execute_reply": "2021-09-19T05:41:46.313845Z",
     "shell.execute_reply.started": "2021-09-18T09:12:35.107008Z"
    },
    "papermill": {
     "duration": 0.049077,
     "end_time": "2021-09-19T05:41:46.314015",
     "exception": false,
     "start_time": "2021-09-19T05:41:46.264938",
     "status": "completed"
    },
    "tags": []
   },
   "outputs": [
    {
     "data": {
      "text/plain": [
       "(42000, 10)"
      ]
     },
     "execution_count": 13,
     "metadata": {},
     "output_type": "execute_result"
    }
   ],
   "source": [
    "y_train = to_categorical(y_train, num_classes=10)\n",
    "y_train.shape"
   ]
  },
  {
   "cell_type": "code",
   "execution_count": 14,
   "id": "3ee1613d",
   "metadata": {
    "execution": {
     "iopub.execute_input": "2021-09-19T05:41:46.400329Z",
     "iopub.status.busy": "2021-09-19T05:41:46.399604Z",
     "iopub.status.idle": "2021-09-19T05:41:46.828887Z",
     "shell.execute_reply": "2021-09-19T05:41:46.828298Z",
     "shell.execute_reply.started": "2021-09-18T09:12:35.119441Z"
    },
    "papermill": {
     "duration": 0.476764,
     "end_time": "2021-09-19T05:41:46.829031",
     "exception": false,
     "start_time": "2021-09-19T05:41:46.352267",
     "status": "completed"
    },
    "tags": []
   },
   "outputs": [],
   "source": [
    "X_train, X_valid, y_train, y_valid = train_test_split(X_train, y_train, test_size=0.33, random_state=42)"
   ]
  },
  {
   "cell_type": "markdown",
   "id": "414a3a47",
   "metadata": {
    "papermill": {
     "duration": 0.043244,
     "end_time": "2021-09-19T05:41:46.912482",
     "exception": false,
     "start_time": "2021-09-19T05:41:46.869238",
     "status": "completed"
    },
    "tags": []
   },
   "source": [
    "## Model Training "
   ]
  },
  {
   "cell_type": "code",
   "execution_count": 15,
   "id": "b261a4e5",
   "metadata": {
    "execution": {
     "iopub.execute_input": "2021-09-19T05:41:46.998641Z",
     "iopub.status.busy": "2021-09-19T05:41:46.997605Z",
     "iopub.status.idle": "2021-09-19T05:41:47.159114Z",
     "shell.execute_reply": "2021-09-19T05:41:47.159703Z",
     "shell.execute_reply.started": "2021-09-18T09:12:35.522586Z"
    },
    "papermill": {
     "duration": 0.209328,
     "end_time": "2021-09-19T05:41:47.159922",
     "exception": false,
     "start_time": "2021-09-19T05:41:46.950594",
     "status": "completed"
    },
    "tags": []
   },
   "outputs": [
    {
     "name": "stdout",
     "output_type": "stream",
     "text": [
      "Model: \"sequential\"\n",
      "_________________________________________________________________\n",
      "Layer (type)                 Output Shape              Param #   \n",
      "=================================================================\n",
      "conv2d (Conv2D)              (None, 28, 28, 8)         80        \n",
      "_________________________________________________________________\n",
      "max_pooling2d (MaxPooling2D) (None, 14, 14, 8)         0         \n",
      "_________________________________________________________________\n",
      "conv2d_1 (Conv2D)            (None, 14, 14, 16)        1168      \n",
      "_________________________________________________________________\n",
      "max_pooling2d_1 (MaxPooling2 (None, 7, 7, 16)          0         \n",
      "_________________________________________________________________\n",
      "flatten (Flatten)            (None, 784)               0         \n",
      "_________________________________________________________________\n",
      "dense (Dense)                (None, 128)               100480    \n",
      "_________________________________________________________________\n",
      "dropout (Dropout)            (None, 128)               0         \n",
      "_________________________________________________________________\n",
      "dense_1 (Dense)              (None, 10)                1290      \n",
      "=================================================================\n",
      "Total params: 103,018\n",
      "Trainable params: 103,018\n",
      "Non-trainable params: 0\n",
      "_________________________________________________________________\n"
     ]
    }
   ],
   "source": [
    "# let's try simple CNN model\n",
    "\n",
    "model = Sequential([\n",
    "    \n",
    "    # feature learning model\n",
    "    Conv2D(8, (3,3), padding='same', input_shape=(28,28,1), activation='relu'),\n",
    "    MaxPool2D(2,2),\n",
    "    \n",
    "    Conv2D(16, (3,3), padding='same', activation='relu'),\n",
    "    MaxPool2D(2,2),\n",
    "    \n",
    "    Flatten(),\n",
    "    \n",
    "    # classification model\n",
    "    Dense(128, activation='relu'),\n",
    "    \n",
    "    Dropout(0.2),\n",
    "    Dense(10, activation='softmax')\n",
    "    \n",
    "])\n",
    "model.summary()\n",
    "\n",
    "model.compile(optimizer='rmsprop', loss='categorical_crossentropy', metrics=['accuracy'])"
   ]
  },
  {
   "cell_type": "code",
   "execution_count": 16,
   "id": "50748f3f",
   "metadata": {
    "execution": {
     "iopub.execute_input": "2021-09-19T05:41:47.247040Z",
     "iopub.status.busy": "2021-09-19T05:41:47.246318Z",
     "iopub.status.idle": "2021-09-19T05:41:47.248603Z",
     "shell.execute_reply": "2021-09-19T05:41:47.247998Z",
     "shell.execute_reply.started": "2021-09-18T09:12:35.654784Z"
    },
    "papermill": {
     "duration": 0.047872,
     "end_time": "2021-09-19T05:41:47.248770",
     "exception": false,
     "start_time": "2021-09-19T05:41:47.200898",
     "status": "completed"
    },
    "tags": []
   },
   "outputs": [],
   "source": [
    "reduce_lr = ReduceLROnPlateau(monitor='val_loss', factor=0.5, patience=3, verbose=1)"
   ]
  },
  {
   "cell_type": "code",
   "execution_count": 17,
   "id": "4079f1cc",
   "metadata": {
    "execution": {
     "iopub.execute_input": "2021-09-19T05:41:47.334189Z",
     "iopub.status.busy": "2021-09-19T05:41:47.333453Z",
     "iopub.status.idle": "2021-09-19T05:45:44.518570Z",
     "shell.execute_reply": "2021-09-19T05:45:44.519079Z",
     "shell.execute_reply.started": "2021-09-18T09:12:35.661288Z"
    },
    "papermill": {
     "duration": 237.230971,
     "end_time": "2021-09-19T05:45:44.519311",
     "exception": false,
     "start_time": "2021-09-19T05:41:47.288340",
     "status": "completed"
    },
    "tags": []
   },
   "outputs": [
    {
     "name": "stdout",
     "output_type": "stream",
     "text": [
      "Epoch 1/20\n",
      "880/880 [==============================] - 9s 11ms/step - loss: 0.2949 - accuracy: 0.9087 - val_loss: 0.0907 - val_accuracy: 0.9719\n",
      "Epoch 2/20\n",
      "880/880 [==============================] - 9s 10ms/step - loss: 0.0938 - accuracy: 0.9708 - val_loss: 0.0658 - val_accuracy: 0.9808\n",
      "Epoch 3/20\n",
      "880/880 [==============================] - 9s 10ms/step - loss: 0.0686 - accuracy: 0.9792 - val_loss: 0.0589 - val_accuracy: 0.9827\n",
      "Epoch 4/20\n",
      "880/880 [==============================] - 9s 10ms/step - loss: 0.0545 - accuracy: 0.9832 - val_loss: 0.0538 - val_accuracy: 0.9834\n",
      "Epoch 5/20\n",
      "880/880 [==============================] - 9s 10ms/step - loss: 0.0461 - accuracy: 0.9852 - val_loss: 0.0498 - val_accuracy: 0.9835\n",
      "Epoch 6/20\n",
      "880/880 [==============================] - 9s 10ms/step - loss: 0.0405 - accuracy: 0.9878 - val_loss: 0.0552 - val_accuracy: 0.9835\n",
      "Epoch 7/20\n",
      "880/880 [==============================] - 9s 11ms/step - loss: 0.0373 - accuracy: 0.9888 - val_loss: 0.0486 - val_accuracy: 0.9867\n",
      "Epoch 8/20\n",
      "880/880 [==============================] - 9s 11ms/step - loss: 0.0323 - accuracy: 0.9906 - val_loss: 0.0516 - val_accuracy: 0.9857\n",
      "Epoch 9/20\n",
      "880/880 [==============================] - 10s 11ms/step - loss: 0.0299 - accuracy: 0.9909 - val_loss: 0.0506 - val_accuracy: 0.9856\n",
      "Epoch 10/20\n",
      "880/880 [==============================] - 10s 11ms/step - loss: 0.0271 - accuracy: 0.9918 - val_loss: 0.0477 - val_accuracy: 0.9868\n",
      "Epoch 11/20\n",
      "880/880 [==============================] - 10s 11ms/step - loss: 0.0251 - accuracy: 0.9930 - val_loss: 0.0598 - val_accuracy: 0.9857\n",
      "Epoch 12/20\n",
      "880/880 [==============================] - 10s 11ms/step - loss: 0.0234 - accuracy: 0.9930 - val_loss: 0.0497 - val_accuracy: 0.9872\n",
      "Epoch 13/20\n",
      "879/880 [============================>.] - ETA: 0s - loss: 0.0215 - accuracy: 0.9936\n",
      "Epoch 00013: ReduceLROnPlateau reducing learning rate to 0.0005000000237487257.\n",
      "880/880 [==============================] - 10s 11ms/step - loss: 0.0215 - accuracy: 0.9936 - val_loss: 0.0533 - val_accuracy: 0.9866\n",
      "Epoch 14/20\n",
      "880/880 [==============================] - 10s 11ms/step - loss: 0.0152 - accuracy: 0.9956 - val_loss: 0.0506 - val_accuracy: 0.9887\n",
      "Epoch 15/20\n",
      "880/880 [==============================] - 9s 11ms/step - loss: 0.0143 - accuracy: 0.9966 - val_loss: 0.0499 - val_accuracy: 0.9890\n",
      "Epoch 16/20\n",
      "875/880 [============================>.] - ETA: 0s - loss: 0.0130 - accuracy: 0.9964\n",
      "Epoch 00016: ReduceLROnPlateau reducing learning rate to 0.0002500000118743628.\n",
      "880/880 [==============================] - 10s 11ms/step - loss: 0.0130 - accuracy: 0.9963 - val_loss: 0.0502 - val_accuracy: 0.9887\n",
      "Epoch 17/20\n",
      "880/880 [==============================] - 10s 11ms/step - loss: 0.0108 - accuracy: 0.9972 - val_loss: 0.0532 - val_accuracy: 0.9887\n",
      "Epoch 18/20\n",
      "880/880 [==============================] - 10s 11ms/step - loss: 0.0105 - accuracy: 0.9972 - val_loss: 0.0543 - val_accuracy: 0.9885\n",
      "Epoch 19/20\n",
      "876/880 [============================>.] - ETA: 0s - loss: 0.0094 - accuracy: 0.9976\n",
      "Epoch 00019: ReduceLROnPlateau reducing learning rate to 0.0001250000059371814.\n",
      "880/880 [==============================] - 10s 11ms/step - loss: 0.0094 - accuracy: 0.9976 - val_loss: 0.0542 - val_accuracy: 0.9890\n",
      "Epoch 20/20\n",
      "880/880 [==============================] - 10s 11ms/step - loss: 0.0086 - accuracy: 0.9979 - val_loss: 0.0555 - val_accuracy: 0.9888\n"
     ]
    },
    {
     "data": {
      "text/plain": [
       "<tensorflow.python.keras.callbacks.History at 0x1bbb4a37a60>"
      ]
     },
     "execution_count": 17,
     "metadata": {},
     "output_type": "execute_result"
    }
   ],
   "source": [
    "model.fit(X_train, y_train, epochs=20, batch_size=32, validation_data=(X_valid, y_valid), callbacks=[reduce_lr])"
   ]
  },
  {
   "cell_type": "markdown",
   "id": "9f983de2",
   "metadata": {
    "papermill": {
     "duration": 1.114531,
     "end_time": "2021-09-19T05:45:46.750989",
     "exception": false,
     "start_time": "2021-09-19T05:45:45.636458",
     "status": "completed"
    },
    "tags": []
   },
   "source": [
    "## Model validation"
   ]
  },
  {
   "cell_type": "markdown",
   "id": "b3e74a67",
   "metadata": {
    "papermill": {
     "duration": 1.112248,
     "end_time": "2021-09-19T05:45:48.982389",
     "exception": false,
     "start_time": "2021-09-19T05:45:47.870141",
     "status": "completed"
    },
    "tags": []
   },
   "source": [
    "#### checking model accuracy"
   ]
  },
  {
   "cell_type": "code",
   "execution_count": 18,
   "id": "dc461aae",
   "metadata": {
    "execution": {
     "iopub.execute_input": "2021-09-19T05:45:51.315199Z",
     "iopub.status.busy": "2021-09-19T05:45:51.314519Z",
     "iopub.status.idle": "2021-09-19T05:45:53.499318Z",
     "shell.execute_reply": "2021-09-19T05:45:53.498693Z",
     "shell.execute_reply.started": "2021-09-18T09:15:56.619456Z"
    },
    "papermill": {
     "duration": 3.389085,
     "end_time": "2021-09-19T05:45:53.499481",
     "exception": false,
     "start_time": "2021-09-19T05:45:50.110396",
     "status": "completed"
    },
    "tags": []
   },
   "outputs": [
    {
     "name": "stdout",
     "output_type": "stream",
     "text": [
      "434/434 [==============================] - 2s 4ms/step\n"
     ]
    }
   ],
   "source": [
    "prediction = model.predict(X_valid, verbose=1)\n",
    "prediction_arg_max = prediction.argmax(axis=1)"
   ]
  },
  {
   "cell_type": "code",
   "execution_count": 19,
   "id": "c6feaca6",
   "metadata": {
    "execution": {
     "iopub.execute_input": "2021-09-19T05:45:55.776348Z",
     "iopub.status.busy": "2021-09-19T05:45:55.775620Z",
     "iopub.status.idle": "2021-09-19T05:45:55.778836Z",
     "shell.execute_reply": "2021-09-19T05:45:55.778186Z",
     "shell.execute_reply.started": "2021-09-18T09:15:58.506989Z"
    },
    "papermill": {
     "duration": 1.141387,
     "end_time": "2021-09-19T05:45:55.778993",
     "exception": false,
     "start_time": "2021-09-19T05:45:54.637606",
     "status": "completed"
    },
    "tags": []
   },
   "outputs": [],
   "source": [
    "y_valid_arg_max = y_valid.argmax(axis=1)"
   ]
  },
  {
   "cell_type": "code",
   "execution_count": 20,
   "id": "d74370d5",
   "metadata": {
    "execution": {
     "iopub.execute_input": "2021-09-19T05:45:58.049312Z",
     "iopub.status.busy": "2021-09-19T05:45:58.048607Z",
     "iopub.status.idle": "2021-09-19T05:45:58.051981Z",
     "shell.execute_reply": "2021-09-19T05:45:58.052512Z",
     "shell.execute_reply.started": "2021-09-18T09:15:58.514203Z"
    },
    "papermill": {
     "duration": 1.136899,
     "end_time": "2021-09-19T05:45:58.052690",
     "exception": false,
     "start_time": "2021-09-19T05:45:56.915791",
     "status": "completed"
    },
    "tags": []
   },
   "outputs": [],
   "source": [
    "from sklearn.metrics import confusion_matrix"
   ]
  },
  {
   "cell_type": "code",
   "execution_count": 21,
   "id": "c6cbe38d",
   "metadata": {
    "execution": {
     "iopub.execute_input": "2021-09-19T05:46:00.386238Z",
     "iopub.status.busy": "2021-09-19T05:46:00.385483Z",
     "iopub.status.idle": "2021-09-19T05:46:00.996060Z",
     "shell.execute_reply": "2021-09-19T05:46:00.996533Z",
     "shell.execute_reply.started": "2021-09-18T09:15:58.529915Z"
    },
    "papermill": {
     "duration": 1.794494,
     "end_time": "2021-09-19T05:46:00.996734",
     "exception": false,
     "start_time": "2021-09-19T05:45:59.202240",
     "status": "completed"
    },
    "tags": []
   },
   "outputs": [
    {
     "data": {
      "image/png": "[encoded data removed]",
      "text/plain": [
       "<Figure size 720x360 with 2 Axes>"
      ]
     },
     "metadata": {
      "needs_background": "light"
     },
     "output_type": "display_data"
    }
   ],
   "source": [
    "cm = confusion_matrix(y_valid_arg_max, prediction_arg_max)\n",
    "plt.figure(figsize=(10,5))\n",
    "sns.heatmap(pd.DataFrame(cm), annot=True, cmap='Blues', fmt='g')\n",
    "plt.title(\"Confusion Matrix\")\n",
    "plt.show()"
   ]
  },
  {
   "cell_type": "markdown",
   "id": "8ef51f38",
   "metadata": {
    "papermill": {
     "duration": 1.138233,
     "end_time": "2021-09-19T05:46:03.321138",
     "exception": false,
     "start_time": "2021-09-19T05:46:02.182905",
     "status": "completed"
    },
    "tags": []
   },
   "source": [
    ">  some \"3\" class images falsely predicted as \"5\" or \"8\" class"
   ]
  },
  {
   "cell_type": "markdown",
   "id": "61b75ef9",
   "metadata": {
    "papermill": {
     "duration": 1.12849,
     "end_time": "2021-09-19T05:46:05.618188",
     "exception": false,
     "start_time": "2021-09-19T05:46:04.489698",
     "status": "completed"
    },
    "tags": []
   },
   "source": [
    "#### let we check some wrong predicted images"
   ]
  },
  {
   "cell_type": "code",
   "execution_count": 22,
   "id": "e3a49d7d",
   "metadata": {
    "execution": {
     "iopub.execute_input": "2021-09-19T05:46:07.902162Z",
     "iopub.status.busy": "2021-09-19T05:46:07.901411Z",
     "iopub.status.idle": "2021-09-19T05:46:07.909220Z",
     "shell.execute_reply": "2021-09-19T05:46:07.908294Z",
     "shell.execute_reply.started": "2021-09-18T09:15:59.184086Z"
    },
    "papermill": {
     "duration": 1.15546,
     "end_time": "2021-09-19T05:46:07.909391",
     "exception": false,
     "start_time": "2021-09-19T05:46:06.753931",
     "status": "completed"
    },
    "tags": []
   },
   "outputs": [
    {
     "data": {
      "text/plain": [
       "8"
      ]
     },
     "execution_count": 22,
     "metadata": {},
     "output_type": "execute_result"
    }
   ],
   "source": [
    "true_3_predicted_5_8 = ((y_valid_arg_max == 3) & ((prediction_arg_max == 5) | (prediction_arg_max == 8)))\n",
    "true_3_predicted_5_8.sum()"
   ]
  },
  {
   "cell_type": "code",
   "execution_count": 23,
   "id": "873c0678",
   "metadata": {
    "execution": {
     "iopub.execute_input": "2021-09-19T05:46:10.226079Z",
     "iopub.status.busy": "2021-09-19T05:46:10.224989Z",
     "iopub.status.idle": "2021-09-19T05:46:10.229995Z",
     "shell.execute_reply": "2021-09-19T05:46:10.230556Z",
     "shell.execute_reply.started": "2021-09-18T09:15:59.191294Z"
    },
    "papermill": {
     "duration": 1.1881,
     "end_time": "2021-09-19T05:46:10.230751",
     "exception": false,
     "start_time": "2021-09-19T05:46:09.042651",
     "status": "completed"
    },
    "tags": []
   },
   "outputs": [
    {
     "data": {
      "text/plain": [
       "((8, 28, 28, 1), (8,), (8,))"
      ]
     },
     "execution_count": 23,
     "metadata": {},
     "output_type": "execute_result"
    }
   ],
   "source": [
    "check_x = X_valid[true_3_predicted_5_8]\n",
    "check_y = y_valid_arg_max[true_3_predicted_5_8]\n",
    "check_predict_y = prediction_arg_max[true_3_predicted_5_8]\n",
    "check_x.shape, check_y.shape, check_predict_y.shape"
   ]
  },
  {
   "cell_type": "code",
   "execution_count": 24,
   "id": "39fcb666",
   "metadata": {
    "execution": {
     "iopub.execute_input": "2021-09-19T05:46:12.507385Z",
     "iopub.status.busy": "2021-09-19T05:46:12.502858Z",
     "iopub.status.idle": "2021-09-19T05:46:12.847541Z",
     "shell.execute_reply": "2021-09-19T05:46:12.848067Z",
     "shell.execute_reply.started": "2021-09-18T09:15:59.206294Z"
    },
    "papermill": {
     "duration": 1.4839,
     "end_time": "2021-09-19T05:46:12.848259",
     "exception": false,
     "start_time": "2021-09-19T05:46:11.364359",
     "status": "completed"
    },
    "tags": []
   },
   "outputs": [
    {
     "data": {
      "image/png": "[encoded data removed]",
      "text/plain": [
       "<Figure size 720x360 with 8 Axes>"
      ]
     },
     "metadata": {},
     "output_type": "display_data"
    }
   ],
   "source": [
    "plt.figure(figsize=(10,5))\n",
    "for i in range(8):\n",
    "    plt.subplot(2,4, i+1)\n",
    "    plt.imshow(check_x[i])\n",
    "    plt.xlabel(check_predict_y[i])\n",
    "    plt.xticks([])\n",
    "    plt.yticks([])\n",
    "plt.show()"
   ]
  },
  {
   "cell_type": "markdown",
   "id": "b2b72ff1",
   "metadata": {
    "papermill": {
     "duration": 1.16946,
     "end_time": "2021-09-19T05:46:15.156345",
     "exception": false,
     "start_time": "2021-09-19T05:46:13.986885",
     "status": "completed"
    },
    "tags": []
   },
   "source": [
    "## Save submission"
   ]
  },
  {
   "cell_type": "code",
   "execution_count": 25,
   "id": "84830819",
   "metadata": {
    "execution": {
     "iopub.execute_input": "2021-09-19T05:46:17.500283Z",
     "iopub.status.busy": "2021-09-19T05:46:17.499595Z",
     "iopub.status.idle": "2021-09-19T05:46:22.145036Z",
     "shell.execute_reply": "2021-09-19T05:46:22.145539Z",
     "shell.execute_reply.started": "2021-09-18T09:15:59.55121Z"
    },
    "papermill": {
     "duration": 5.847808,
     "end_time": "2021-09-19T05:46:22.145749",
     "exception": false,
     "start_time": "2021-09-19T05:46:16.297941",
     "status": "completed"
    },
    "tags": []
   },
   "outputs": [
    {
     "name": "stdout",
     "output_type": "stream",
     "text": [
      "875/875 [==============================] - 4s 4ms/step\n"
     ]
    }
   ],
   "source": [
    "pred = model.predict(X_test, verbose=1)\n",
    "pred = pred.argmax(axis=1)"
   ]
  },
  {
   "cell_type": "code",
   "execution_count": 27,
   "id": "10375ce3",
   "metadata": {
    "execution": {
     "iopub.execute_input": "2021-09-19T05:46:24.478431Z",
     "iopub.status.busy": "2021-09-19T05:46:24.477721Z",
     "iopub.status.idle": "2021-09-19T05:46:24.554605Z",
     "shell.execute_reply": "2021-09-19T05:46:24.553898Z",
     "shell.execute_reply.started": "2021-09-18T09:16:03.509419Z"
    },
    "papermill": {
     "duration": 1.243124,
     "end_time": "2021-09-19T05:46:24.554773",
     "exception": false,
     "start_time": "2021-09-19T05:46:23.311649",
     "status": "completed"
    },
    "tags": []
   },
   "outputs": [],
   "source": [
    "sample_df = pd.read_csv('sample_submission.csv')\n",
    "sample_df.to_csv(\"submission.csv\", index=False)"
   ]
  },
  {
   "cell_type": "code",
   "execution_count": 28,
   "id": "595c31f2",
   "metadata": {
    "execution": {
     "iopub.execute_input": "2021-09-19T05:46:26.926759Z",
     "iopub.status.busy": "2021-09-19T05:46:26.926064Z",
     "iopub.status.idle": "2021-09-19T05:46:26.938790Z",
     "shell.execute_reply": "2021-09-19T05:46:26.939331Z",
     "shell.execute_reply.started": "2021-09-18T09:16:03.581157Z"
    },
    "papermill": {
     "duration": 1.215971,
     "end_time": "2021-09-19T05:46:26.939530",
     "exception": false,
     "start_time": "2021-09-19T05:46:25.723559",
     "status": "completed"
    },
    "tags": []
   },
   "outputs": [
    {
     "data": {
      "text/html": [
       "<div>\n",
       "<style scoped>\n",
       "    .dataframe tbody tr th:only-of-type {\n",
       "        vertical-align: middle;\n",
       "    }\n",
       "\n",
       "    .dataframe tbody tr th {\n",
       "        vertical-align: top;\n",
       "    }\n",
       "\n",
       "    .dataframe thead th {\n",
       "        text-align: right;\n",
       "    }\n",
       "</style>\n",
       "<table border=\"1\" class=\"dataframe\">\n",
       "  <thead>\n",
       "    <tr style=\"text-align: right;\">\n",
       "      <th></th>\n",
       "      <th>ImageId</th>\n",
       "      <th>Label</th>\n",
       "    </tr>\n",
       "  </thead>\n",
       "  <tbody>\n",
       "    <tr>\n",
       "      <th>0</th>\n",
       "      <td>1</td>\n",
       "      <td>0</td>\n",
       "    </tr>\n",
       "    <tr>\n",
       "      <th>1</th>\n",
       "      <td>2</td>\n",
       "      <td>0</td>\n",
       "    </tr>\n",
       "    <tr>\n",
       "      <th>2</th>\n",
       "      <td>3</td>\n",
       "      <td>0</td>\n",
       "    </tr>\n",
       "    <tr>\n",
       "      <th>3</th>\n",
       "      <td>4</td>\n",
       "      <td>0</td>\n",
       "    </tr>\n",
       "    <tr>\n",
       "      <th>4</th>\n",
       "      <td>5</td>\n",
       "      <td>0</td>\n",
       "    </tr>\n",
       "  </tbody>\n",
       "</table>\n",
       "</div>"
      ],
      "text/plain": [
       "   ImageId  Label\n",
       "0        1      0\n",
       "1        2      0\n",
       "2        3      0\n",
       "3        4      0\n",
       "4        5      0"
      ]
     },
     "execution_count": 28,
     "metadata": {},
     "output_type": "execute_result"
    }
   ],
   "source": [
    "sample_df.head()"
   ]
  },
  {
   "cell_type": "code",
   "execution_count": 29,
   "id": "7d448184",
   "metadata": {
    "execution": {
     "iopub.execute_input": "2021-09-19T05:46:29.253454Z",
     "iopub.status.busy": "2021-09-19T05:46:29.252710Z",
     "iopub.status.idle": "2021-09-19T05:46:29.262763Z",
     "shell.execute_reply": "2021-09-19T05:46:29.262123Z",
     "shell.execute_reply.started": "2021-09-18T09:16:03.59727Z"
    },
    "papermill": {
     "duration": 1.167945,
     "end_time": "2021-09-19T05:46:29.262943",
     "exception": false,
     "start_time": "2021-09-19T05:46:28.094998",
     "status": "completed"
    },
    "tags": []
   },
   "outputs": [
    {
     "data": {
      "text/plain": [
       "Label\n",
       "0    28000\n",
       "dtype: int64"
      ]
     },
     "execution_count": 29,
     "metadata": {},
     "output_type": "execute_result"
    }
   ],
   "source": [
    "sample_df.groupby('Label').size()"
   ]
  },
  {
   "cell_type": "code",
   "execution_count": 30,
   "id": "0b7c44da",
   "metadata": {
    "execution": {
     "iopub.execute_input": "2021-09-19T05:46:31.701144Z",
     "iopub.status.busy": "2021-09-19T05:46:31.698536Z",
     "iopub.status.idle": "2021-09-19T05:46:31.704896Z",
     "shell.execute_reply": "2021-09-19T05:46:31.704351Z",
     "shell.execute_reply.started": "2021-09-18T09:16:03.613162Z"
    },
    "papermill": {
     "duration": 1.246693,
     "end_time": "2021-09-19T05:46:31.705049",
     "exception": false,
     "start_time": "2021-09-19T05:46:30.458356",
     "status": "completed"
    },
    "tags": []
   },
   "outputs": [],
   "source": [
    "# update classes with actual result\n",
    "sample_df['Label'] = pred"
   ]
  },
  {
   "cell_type": "code",
   "execution_count": 31,
   "id": "fd48da5d",
   "metadata": {
    "execution": {
     "iopub.execute_input": "2021-09-19T05:46:34.029841Z",
     "iopub.status.busy": "2021-09-19T05:46:34.029191Z",
     "iopub.status.idle": "2021-09-19T05:46:34.036196Z",
     "shell.execute_reply": "2021-09-19T05:46:34.036648Z",
     "shell.execute_reply.started": "2021-09-18T09:16:03.618621Z"
    },
    "papermill": {
     "duration": 1.169953,
     "end_time": "2021-09-19T05:46:34.036842",
     "exception": false,
     "start_time": "2021-09-19T05:46:32.866889",
     "status": "completed"
    },
    "tags": []
   },
   "outputs": [
    {
     "data": {
      "text/plain": [
       "Label\n",
       "0    2781\n",
       "1    3201\n",
       "2    2826\n",
       "3    2782\n",
       "4    2770\n",
       "5    2517\n",
       "6    2734\n",
       "7    2887\n",
       "8    2737\n",
       "9    2765\n",
       "dtype: int64"
      ]
     },
     "execution_count": 31,
     "metadata": {},
     "output_type": "execute_result"
    }
   ],
   "source": [
    "sample_df.groupby('Label').size()"
   ]
  },
  {
   "cell_type": "code",
   "execution_count": 33,
   "id": "2ec13da5",
   "metadata": {
    "execution": {
     "iopub.execute_input": "2021-09-19T05:46:36.359668Z",
     "iopub.status.busy": "2021-09-19T05:46:36.358719Z",
     "iopub.status.idle": "2021-09-19T05:46:36.412385Z",
     "shell.execute_reply": "2021-09-19T05:46:36.411610Z",
     "shell.execute_reply.started": "2021-09-18T09:16:03.633003Z"
    },
    "papermill": {
     "duration": 1.219666,
     "end_time": "2021-09-19T05:46:36.412540",
     "exception": false,
     "start_time": "2021-09-19T05:46:35.192874",
     "status": "completed"
    },
    "tags": []
   },
   "outputs": [],
   "source": [
    "sample_df.to_csv(\"submission.csv\", index=False)"
   ]
  },
  {
   "cell_type": "markdown",
   "id": "c590b987",
   "metadata": {},
   "source": [
    "# LGM VIP 4TH TASK SUCCESSFULLY COMPELETED"
   ]
  }
 ],
 "metadata": {
  "kernelspec": {
   "display_name": "Python 3",
   "language": "python",
   "name": "python3"
  },
  "language_info": {
   "codemirror_mode": {
    "name": "ipython",
    "version": 3
   },
   "file_extension": ".py",
   "mimetype": "text/x-python",
   "name": "python",
   "nbconvert_exporter": "python",
   "pygments_lexer": "ipython3",
   "version": "3.8.8"
  },
  "papermill": {
   "default_parameters": {},
   "duration": 323.432391,
   "end_time": "2021-09-19T05:46:42.778170",
   "environment_variables": {},
   "exception": null,
   "input_path": "__notebook__.ipynb",
   "output_path": "__notebook__.ipynb",
   "parameters": {},
   "start_time": "2021-09-19T05:41:19.345779",
   "version": "2.3.3"
  }
 },
 "nbformat": 4,
 "nbformat_minor": 5
}
